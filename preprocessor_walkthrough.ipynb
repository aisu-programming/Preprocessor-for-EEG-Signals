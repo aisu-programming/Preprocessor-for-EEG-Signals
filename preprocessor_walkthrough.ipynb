{
 "cells": [
  {
   "cell_type": "markdown",
   "metadata": {},
   "source": [
    "# Generative Preprocessor for EEG Signals\n",
    "\n",
    "Hi! This notebook walks through the steps of our project, in the following order:\n",
    "\n",
    "1. install requirements\n",
    "1. download dataset\n",
    "1. train baseline classifiers\n",
    "1. train generative preprocessors based on the best classifiers\n",
    "1. train new classifiers on generative preprocessor output data "
   ]
  },
  {
   "cell_type": "markdown",
   "metadata": {},
   "source": [
    "### Install requirements\n",
    "\n",
    "This project is expected to run on Python 3.9-11 and uses pip as a package manager. It has been run on Linux, Windows, and Mac with Apple Silicon."
   ]
  },
  {
   "cell_type": "code",
   "execution_count": 3,
   "metadata": {},
   "outputs": [
    {
     "name": "stdout",
     "output_type": "stream",
     "text": [
      "Note: you may need to restart the kernel to use updated packages.\n"
     ]
    }
   ],
   "source": [
    "%pip install -q -r requirements.txt"
   ]
  },
  {
   "cell_type": "markdown",
   "metadata": {},
   "source": [
    "### Download dataset"
   ]
  },
  {
   "cell_type": "code",
   "execution_count": null,
   "metadata": {},
   "outputs": [
    {
     "name": "stdout",
     "output_type": "stream",
     "text": [
      "--2024-05-07 20:43:36--  https://www.bbci.de/competition/download/competition_iv/BCICIV_2a_gdf.zip\n",
      "Resolving www.bbci.de (www.bbci.de)... 130.149.80.149\n",
      "Connecting to www.bbci.de (www.bbci.de)|130.149.80.149|:443... connected.\n",
      "HTTP request sent, awaiting response... 200 OK\n",
      "Length: 439968864 (420M) [application/zip]\n",
      "Saving to: ‘BCICIV_2a_gdf.zip’\n",
      "\n",
      "BCICIV_2a_gdf.zip    31%[=====>              ] 130.80M  2.76MB/s    eta 1m 47s "
     ]
    },
    {
     "name": "stdout",
     "output_type": "stream",
     "text": [
      "BCICIV_2a_gdf.zip    35%[======>             ] 148.19M  3.08MB/s    eta 99s    "
     ]
    }
   ],
   "source": [
    "!./download_dataset.sh"
   ]
  },
  {
   "cell_type": "markdown",
   "metadata": {},
   "source": [
    "### Train baseline classifiers"
   ]
  },
  {
   "cell_type": "code",
   "execution_count": null,
   "metadata": {},
   "outputs": [],
   "source": []
  },
  {
   "cell_type": "markdown",
   "metadata": {},
   "source": [
    "### Train baseline classifiers based on the best classifiers"
   ]
  },
  {
   "cell_type": "code",
   "execution_count": null,
   "metadata": {},
   "outputs": [],
   "source": []
  },
  {
   "cell_type": "markdown",
   "metadata": {},
   "source": [
    "### Train new classifiers on generative preprocessor output data"
   ]
  },
  {
   "cell_type": "code",
   "execution_count": null,
   "metadata": {},
   "outputs": [],
   "source": []
  }
 ],
 "metadata": {
  "kernelspec": {
   "display_name": ".venv",
   "language": "python",
   "name": "python3"
  },
  "language_info": {
   "codemirror_mode": {
    "name": "ipython",
    "version": 3
   },
   "file_extension": ".py",
   "mimetype": "text/x-python",
   "name": "python",
   "nbconvert_exporter": "python",
   "pygments_lexer": "ipython3",
   "version": "3.11.4"
  }
 },
 "nbformat": 4,
 "nbformat_minor": 2
}
